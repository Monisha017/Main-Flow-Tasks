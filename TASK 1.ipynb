{
 "cells": [
  {
   "cell_type": "code",
   "execution_count": 1,
   "id": "1adf5356-b52f-4e25-9d46-e9ee528d7b1b",
   "metadata": {},
   "outputs": [
    {
     "name": "stdout",
     "output_type": "stream",
     "text": [
      "Original List:  [1, 3, 5, 7, 9]\n",
      "Updated list: [8, 3, 7, 'hi', 9, 11]\n"
     ]
    }
   ],
   "source": [
    "# List\n",
    "\n",
    "#creating a list\n",
    "my_list = [1,3,5,7,9]\n",
    "print(\"Original List: \", my_list)\n",
    "\n",
    "#adding an element to the list\n",
    "my_list.append(11)\n",
    "\n",
    "#removing an element from the list\n",
    "my_list.remove(5)\n",
    "\n",
    "#modifying an element in the list\n",
    "my_list[0] = 8\n",
    "\n",
    "#inserting an element in the list\n",
    "my_list.insert(3, \"hi\")\n",
    "\n",
    "print(\"Updated list:\",my_list)"
   ]
  },
  {
   "cell_type": "code",
   "execution_count": 2,
   "id": "437abc5a-3268-4e18-8f0f-4d94ed678c1a",
   "metadata": {},
   "outputs": [
    {
     "name": "stdout",
     "output_type": "stream",
     "text": [
      "Original Dictionary:  {'name': 'Zaara', 'age': 26, 'city': 'Mumbai'}\n",
      "Updated Dictionary: {'name': 'Zaara', 'city': 'Bangalore', 'gender': 'Female'}\n"
     ]
    }
   ],
   "source": [
    "# Dictionary\n",
    "\n",
    "#creating a dictionary\n",
    "my_dict = {'name': 'Zaara', 'age': 26, 'city': 'Mumbai'}\n",
    "print(\"Original Dictionary: \", my_dict)\n",
    "\n",
    "#adding an element \n",
    "my_dict['gender'] = 'Female'\n",
    "\n",
    "#removing an element \n",
    "del my_dict['age']\n",
    "\n",
    "#modifying the dictionary\n",
    "my_dict['city'] = 'Bangalore'\n",
    "\n",
    "print(\"Updated Dictionary:\",my_dict)"
   ]
  },
  {
   "cell_type": "code",
   "execution_count": 3,
   "id": "a274777c-d148-420d-964f-acf90df5e8b9",
   "metadata": {},
   "outputs": [
    {
     "name": "stdout",
     "output_type": "stream",
     "text": [
      "Original Tuple :  (10, 20, 30, 40, 50)\n",
      "Updated Tuple :  (10, 30, 25, 50, 60)\n"
     ]
    }
   ],
   "source": [
    "# Tuple\n",
    "\n",
    "#creating a tuple \n",
    "original_tuple = (10, 20, 30, 40, 50)\n",
    "print(\"Original Tuple : \", original_tuple)\n",
    "\n",
    "#adding a new element to the tuple\n",
    "new_element = 60\n",
    "updated_tuple = original_tuple + (60,)\n",
    "\n",
    "#removing an element from the tuple\n",
    "updated_tuple = updated_tuple[:1] + updated_tuple[2:]\n",
    "\n",
    "#modifying an element in the tuple\n",
    "modified_element = 25\n",
    "updated_tuple = updated_tuple[:2] + (modified_element,) + updated_tuple[3:]\n",
    "\n",
    "print(\"Updated Tuple : \", updated_tuple)\n"
   ]
  }
 ],
 "metadata": {
  "kernelspec": {
   "display_name": "Python 3 (ipykernel)",
   "language": "python",
   "name": "python3"
  },
  "language_info": {
   "codemirror_mode": {
    "name": "ipython",
    "version": 3
   },
   "file_extension": ".py",
   "mimetype": "text/x-python",
   "name": "python",
   "nbconvert_exporter": "python",
   "pygments_lexer": "ipython3",
   "version": "3.12.4"
  }
 },
 "nbformat": 4,
 "nbformat_minor": 5
}
